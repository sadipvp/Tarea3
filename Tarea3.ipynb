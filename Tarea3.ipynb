{
 "cells": [
  {
   "cell_type": "markdown",
   "id": "228dec76",
   "metadata": {},
   "source": [
    "## Matematicas Discretas Tarea 2"
   ]
  },
  {
   "cell_type": "markdown",
   "id": "7dd93803",
   "metadata": {},
   "source": [
    "## Daniel Felipe Ahumada Hernandez"
   ]
  },
  {
   "cell_type": "markdown",
   "id": "3c1790de",
   "metadata": {},
   "source": [
    "Debemos crear una funcion la cual segun un numero, lo expresa en una suma de cuadrados"
   ]
  },
  {
   "cell_type": "code",
   "execution_count": 15,
   "id": "22068316",
   "metadata": {},
   "outputs": [
    {
     "name": "stdout",
     "output_type": "stream",
     "text": [
      "40\n",
      "[36, 4]\n"
     ]
    }
   ],
   "source": [
    "import math\n",
    "\n",
    "def sum_of_squares(n):\n",
    "    squares = []\n",
    "    i = 1\n",
    "    while n > 0:\n",
    "        square = int(math.sqrt(n))\n",
    "        squares.append(square**2)\n",
    "        n -= square**2\n",
    "        i += 1\n",
    "    return squares\n",
    "\n",
    "s = int(input())\n",
    "\n",
    "print(sum_of_squares(s)) "
   ]
  }
 ],
 "metadata": {
  "kernelspec": {
   "display_name": "Python 3 (ipykernel)",
   "language": "python",
   "name": "python3"
  },
  "language_info": {
   "codemirror_mode": {
    "name": "ipython",
    "version": 3
   },
   "file_extension": ".py",
   "mimetype": "text/x-python",
   "name": "python",
   "nbconvert_exporter": "python",
   "pygments_lexer": "ipython3",
   "version": "3.9.13"
  }
 },
 "nbformat": 4,
 "nbformat_minor": 5
}
